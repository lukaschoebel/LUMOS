{
 "cells": [
  {
   "cell_type": "markdown",
   "metadata": {},
   "source": [
    "# Jupyter Playground\n",
    "\n",
    "*Jupyter notebook for testing purposes.*"
   ]
  },
  {
   "cell_type": "code",
   "execution_count": 1,
   "metadata": {},
   "outputs": [],
   "source": [
    "import sys\n",
    "\n",
    "sys.path.insert(0, '../scripts')\n",
    "from tokenizer import Tokenizer\n",
    "from lemmatizer import Lemmatizer\n",
    "from topicizer import Topicizer\n",
    "from factorizer import Factorizer"
   ]
  },
  {
   "cell_type": "markdown",
   "metadata": {},
   "source": [
    "## 1. Tokenizer"
   ]
  },
  {
   "cell_type": "code",
   "execution_count": 2,
   "metadata": {},
   "outputs": [
    {
     "output_type": "stream",
     "name": "stdout",
     "text": "Siemens\na factory\nIndia\napproximately 7.3 Million Euros\n"
    }
   ],
   "source": [
    "s = '\"Siemens is building a factory in India for approximately 7.3 Million Euros.\"'\n",
    "t = Tokenizer(s)\n",
    "t._print_noun_chunks()"
   ]
  },
  {
   "cell_type": "markdown",
   "metadata": {},
   "source": [
    "## 2. Lemmatizer"
   ]
  },
  {
   "cell_type": "code",
   "execution_count": 3,
   "metadata": {},
   "outputs": [
    {
     "output_type": "stream",
     "name": "stdout",
     "text": "I            PRON   561228191312463089   -PRON-\nam           AUX    10382539506755952630 be\na            DET    11901859001352538922 a\nstudent      NOUN   8980609300697527695  student\nstudying     VERB   4251533498015236010  study\nvarious      ADJ    15505458595570984623 various\nNatural      PROPN  16016219431787577165 Natural\nLanguage     PROPN  2953755589855585080  Language\nProcessing   PROPN  5477194979658911992  Processing\nalgorothms   NOUN   3969165751382591598  algorothms\nto           PART   3791531372978436496  to\nobtain       VERB   8991116519625795538  obtain\na            DET    11901859001352538922 a\ndeeper       ADJ    12691978708603459222 deep\nunderstanding NOUN   1392792401359955612  understanding\n.            PUNCT  12646065887601541794 .\n"
    }
   ],
   "source": [
    "seq = 'I am a student studying various Natural Language Processing algorothms to obtain a deeper understanding.'\n",
    "l = Lemmatizer()\n",
    "l._print_lemmas(seq)"
   ]
  },
  {
   "cell_type": "markdown",
   "metadata": {},
   "source": [
    "## 3. Topic Modeling\n",
    "- LDA\n",
    "- Matrix Factorization"
   ]
  },
  {
   "cell_type": "code",
   "execution_count": 4,
   "metadata": {},
   "outputs": [
    {
     "output_type": "stream",
     "name": "stdout",
     "text": "Topic #0\n['did', 'election', 'told', 'russia', 'donald', 'new', 'news', 'obama', 'white', 'house', 'campaign', 'clinton', 'president', 'said', 'trump']\n\n\nTopic #1\n['oil', 'million', 'according', 'deal', 'iran', 'countries', 'year', 'new', 'business', 'world', 'trade', 'said', 'companies', 'says', 'company']\n\n\nTopic #2\n['don', 'years', 'life', 'know', 'man', 'day', 'time', 'black', 'city', 'like', 'just', 'said', 'police', 'people', 'says']\n\n\nTopic #3\n['just', 'year', 'university', 'years', 'research', 'disease', 'food', 'like', 'care', 'percent', 'study', 'new', 'people', 'health', 'says']\n\n\nTopic #4\n['lot', 'things', 'going', 'way', 'time', 'don', 'know', 'really', 'students', 'think', 'just', 'school', 'like', 'people', 'says']\n\n\nTopic #5\n['republican', 'voters', 'vote', 'clinton', 'new', 'federal', 'president', 'states', 'people', 'court', 'law', 'percent', 'trump', 'state', 'said']\n\n\nTopic #6\n['won', 'way', 'games', 'life', 'earth', 'game', 'space', 'like', 'just', 'years', 'says', 'team', 'new', 'time', 'world']\n\n\nTopic #7\n['life', 'really', 'know', 'love', 'film', 'album', 'song', 'years', 'way', 'time', 'says', 'new', 'just', 'music', 'like']\n\n\nTopic #8\n['hospital', 'drugs', 'years', 'health', 'family', 'medical', 'like', 'patients', 'just', 'care', 'drug', 'people', 'said', 'women', 'says']\n\n\nTopic #9\n['years', 'according', 'isis', 'syria', 'state', 'country', 'reports', 'city', 'military', 'water', 'war', 'government', 'people', 'said', 'says']\n\n\n"
    }
   ],
   "source": [
    "# LDA\n",
    "t = Topicizer(os.getcwd().replace('/notebooks', '/data/articles.csv'), classes=10)\n",
    "lda_cluster_data = t.get_topk(top_k=15)"
   ]
  },
  {
   "cell_type": "code",
   "execution_count": 5,
   "metadata": {},
   "outputs": [
    {
     "output_type": "stream",
     "name": "stdout",
     "text": "Article  Topic\n0      In the Washington of 2016, even when the polic...      0\n1        Donald Trump has used Twitter  —   his prefe...      0\n2        Donald Trump is unabashedly praising Russian...      0\n3      Updated at 2:50 p. m. ET, Russian President Vl...      0\n4      From photography, illustration and video, to d...      5\n...                                                  ...    ...\n11987  The number of law enforcement officers shot an...      2\n11988    Trump is busy these days with victory tours,...      0\n11989  It’s always interesting for the Goats and Soda...      3\n11990  The election of Donald Trump was a surprise to...      5\n11991  Voters in the English city of Sunderland did s...      1\n\n[11992 rows x 2 columns]\n"
    }
   ],
   "source": [
    "# Articles with assigned topic\n",
    "print(lda_cluster_data)"
   ]
  },
  {
   "cell_type": "markdown",
   "metadata": {},
   "source": [
    "### Non-negative Matrix Factorization\n",
    "Perform SVD to obtain topics aims to minimize the *Frobenius Norm*:\n",
    "$\\frac{1}{2} || A - WH||^2_F = \\sum \\sum \\left( A_{ij} - (WH)_{ij }\\right)^2$"
   ]
  },
  {
   "cell_type": "code",
   "execution_count": 6,
   "metadata": {},
   "outputs": [
    {
     "output_type": "stream",
     "name": "stdout",
     "text": "Topic #0\n['year', 'university', 'workers', '000', 'years', 'just', 'company', 'study', 'new', 'percent', 'like', 'water', 'food', 'people', 'says']\n\n\nTopic #1\n['administration', 'cruz', 'election', 'pence', 'gop', 'presidential', 'obama', 'house', 'white', 'republican', 'donald', 'campaign', 'said', 'president', 'trump']\n\n\nTopic #2\n['patients', 'repeal', 'law', 'act', 'republicans', 'tax', 'people', 'plan', 'affordable', 'obamacare', 'coverage', 'medicaid', 'insurance', 'care', 'health']\n\n\nTopic #3\n['assad', 'iran', 'iraq', 'north', 'china', 'aleppo', 'war', 'korea', 'said', 'forces', 'russia', 'military', 'syrian', 'syria', 'isis']\n\n\nTopic #4\n['cruz', 'election', 'primary', 'democrats', 'percent', 'party', 'vote', 'state', 'delegates', 'democratic', 'hillary', 'campaign', 'voters', 'sanders', 'clinton']\n\n\nTopic #5\n['book', 'love', 'women', 'way', 'time', 'life', 'album', 'song', 'people', 'really', 'know', 'think', 'just', 'like', 'music']\n\n\nTopic #6\n['program', 'child', 'teacher', 'high', 'devos', 'parents', 'children', 'college', 'kids', 'teachers', 'student', 'education', 'schools', 'school', 'students']\n\n\nTopic #7\n['cdc', 'babies', 'infected', 'brazil', 'outbreak', 'pregnant', 'microcephaly', 'cases', 'health', 'disease', 'mosquitoes', 'mosquito', 'women', 'virus', 'zika']\n\n\nTopic #8\n['department', 'enforcement', 'killed', 'city', 'gun', 'people', 'law', 'reports', 'attack', 'shooting', 'officer', 'black', 'said', 'officers', 'police']\n\n\nTopic #9\n['law', 'supreme', 'russian', 'russia', 'intelligence', 'said', 'investigation', 'committee', 'house', 'justice', 'president', 'senate', 'fbi', 'court', 'comey']\n\n\n"
    }
   ],
   "source": [
    "f = Factorizer(os.getcwd().replace('/notebooks', '/data/articles.csv'), classes=10)\n",
    "svd_cluster_data = f.get_topk(top_k=15)"
   ]
  },
  {
   "cell_type": "code",
   "execution_count": 7,
   "metadata": {},
   "outputs": [
    {
     "output_type": "stream",
     "name": "stdout",
     "text": "Article  Topic\n0      In the Washington of 2016, even when the polic...      1\n1        Donald Trump has used Twitter  —   his prefe...      1\n2        Donald Trump is unabashedly praising Russian...      1\n3      Updated at 2:50 p. m. ET, Russian President Vl...      9\n4      From photography, illustration and video, to d...      6\n...                                                  ...    ...\n11987  The number of law enforcement officers shot an...      8\n11988    Trump is busy these days with victory tours,...      1\n11989  It’s always interesting for the Goats and Soda...      7\n11990  The election of Donald Trump was a surprise to...      4\n11991  Voters in the English city of Sunderland did s...      0\n\n[11992 rows x 2 columns]\n"
    }
   ],
   "source": [
    "print(svd_cluster_data)"
   ]
  }
 ],
 "metadata": {
  "kernelspec": {
   "display_name": "Python 3.8.2 64-bit ('nlp': conda)",
   "language": "python",
   "name": "python38264bitnlpcondabab2238b208c4ad6b68b77c1f008f8e5"
  },
  "language_info": {
   "codemirror_mode": {
    "name": "ipython",
    "version": 3
   },
   "file_extension": ".py",
   "mimetype": "text/x-python",
   "name": "python",
   "nbconvert_exporter": "python",
   "pygments_lexer": "ipython3",
   "version": "3.8.2-final"
  }
 },
 "nbformat": 4,
 "nbformat_minor": 4
}