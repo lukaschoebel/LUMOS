{
 "cells": [
  {
   "cell_type": "markdown",
   "metadata": {},
   "source": [
    "# Simple Keras Tests"
   ]
  },
  {
   "cell_type": "markdown",
   "metadata": {},
   "source": [
    "### Import statements and assignment"
   ]
  },
  {
   "cell_type": "code",
   "execution_count": 20,
   "metadata": {},
   "outputs": [],
   "source": [
    "import numpy as np\n",
    "\n",
    "from sklearn.datasets import load_iris\n",
    "from sklearn.model_selection import train_test_split\n",
    "from sklearn.preprocessing import MinMaxScaler\n",
    "from sklearn.metrics import confusion_matrix, classification_report, accuracy_score\n",
    "\n",
    "from keras.utils import to_categorical\n",
    "from keras.models import Sequential\n",
    "from keras.layers import Dense"
   ]
  },
  {
   "cell_type": "code",
   "execution_count": 4,
   "metadata": {},
   "outputs": [],
   "source": [
    "# Loading\n",
    "iris = load_iris()\n",
    "\n",
    "# Assigning data and targets\n",
    "X = iris.data\n",
    "y = iris.target"
   ]
  },
  {
   "cell_type": "code",
   "execution_count": 8,
   "metadata": {},
   "outputs": [],
   "source": [
    "# Cast y to one-hot coded vector\n",
    "y = to_categorical(y)"
   ]
  },
  {
   "cell_type": "code",
   "execution_count": 10,
   "metadata": {},
   "outputs": [],
   "source": [
    "# Split dataset into train and test set\n",
    "X_train, X_test, y_train, y_test = train_test_split(X, y, test_size=0.3, random_state=77)"
   ]
  },
  {
   "cell_type": "code",
   "execution_count": 15,
   "metadata": {},
   "outputs": [],
   "source": [
    "# Scale data\n",
    "scaler_object = MinMaxScaler()\n",
    "scaler_object.fit(X_train)\n",
    "\n",
    "scaled_X_train = scaler_object.transform(X_train)\n",
    "scaled_X_test = scaler_object.transform(X_test)"
   ]
  },
  {
   "cell_type": "markdown",
   "metadata": {},
   "source": [
    "## Create Model"
   ]
  },
  {
   "cell_type": "code",
   "execution_count": 18,
   "metadata": {},
   "outputs": [
    {
     "output_type": "stream",
     "name": "stdout",
     "text": "Model: \"sequential_2\"\n_________________________________________________________________\nLayer (type)                 Output Shape              Param #   \n=================================================================\ndense_4 (Dense)              (None, 8)                 40        \n_________________________________________________________________\ndense_5 (Dense)              (None, 8)                 72        \n_________________________________________________________________\ndense_6 (Dense)              (None, 3)                 27        \n=================================================================\nTotal params: 139\nTrainable params: 139\nNon-trainable params: 0\n_________________________________________________________________\n"
    }
   ],
   "source": [
    "model = Sequential()\n",
    "\n",
    "model.add(Dense(8, input_dim=4, activation='relu'))\n",
    "model.add(Dense(8, input_dim=4, activation='relu'))\n",
    "model.add(Dense(3, activation='softmax'))\n",
    "model.compile(loss='categorical_crossentropy', optimizer='adam', metrics=['accuracy'])\n",
    "\n",
    "model.summary()"
   ]
  },
  {
   "cell_type": "code",
   "execution_count": 19,
   "metadata": {},
   "outputs": [
    {
     "output_type": "stream",
     "name": "stdout",
     "text": "Epoch 1/150\n - 0s - loss: 1.0158 - accuracy: 0.3048\nEpoch 2/150\n - 0s - loss: 1.0018 - accuracy: 0.3048\nEpoch 3/150\n - 0s - loss: 0.9882 - accuracy: 0.3048\nEpoch 4/150\n - 0s - loss: 0.9764 - accuracy: 0.3048\nEpoch 5/150\n - 0s - loss: 0.9652 - accuracy: 0.3048\nEpoch 6/150\n - 0s - loss: 0.9559 - accuracy: 0.3048\nEpoch 7/150\n - 0s - loss: 0.9467 - accuracy: 0.3048\nEpoch 8/150\n - 0s - loss: 0.9380 - accuracy: 0.3048\nEpoch 9/150\n - 0s - loss: 0.9290 - accuracy: 0.3143\nEpoch 10/150\n - 0s - loss: 0.9207 - accuracy: 0.3143\nEpoch 11/150\n - 0s - loss: 0.9120 - accuracy: 0.3905\nEpoch 12/150\n - 0s - loss: 0.9041 - accuracy: 0.4286\nEpoch 13/150\n - 0s - loss: 0.8963 - accuracy: 0.4952\nEpoch 14/150\n - 0s - loss: 0.8886 - accuracy: 0.5333\nEpoch 15/150\n - 0s - loss: 0.8814 - accuracy: 0.5810\nEpoch 16/150\n - 0s - loss: 0.8740 - accuracy: 0.5905\nEpoch 17/150\n - 0s - loss: 0.8667 - accuracy: 0.6095\nEpoch 18/150\n - 0s - loss: 0.8592 - accuracy: 0.6286\nEpoch 19/150\n - 0s - loss: 0.8517 - accuracy: 0.6476\nEpoch 20/150\n - 0s - loss: 0.8441 - accuracy: 0.6476\nEpoch 21/150\n - 0s - loss: 0.8370 - accuracy: 0.6571\nEpoch 22/150\n - 0s - loss: 0.8292 - accuracy: 0.6571\nEpoch 23/150\n - 0s - loss: 0.8221 - accuracy: 0.6571\nEpoch 24/150\n - 0s - loss: 0.8146 - accuracy: 0.6667\nEpoch 25/150\n - 0s - loss: 0.8072 - accuracy: 0.6762\nEpoch 26/150\n - 0s - loss: 0.8000 - accuracy: 0.6857\nEpoch 27/150\n - 0s - loss: 0.7928 - accuracy: 0.6857\nEpoch 28/150\n - 0s - loss: 0.7854 - accuracy: 0.6857\nEpoch 29/150\n - 0s - loss: 0.7781 - accuracy: 0.6857\nEpoch 30/150\n - 0s - loss: 0.7705 - accuracy: 0.6857\nEpoch 31/150\n - 0s - loss: 0.7629 - accuracy: 0.6952\nEpoch 32/150\n - 0s - loss: 0.7552 - accuracy: 0.7143\nEpoch 33/150\n - 0s - loss: 0.7476 - accuracy: 0.7238\nEpoch 34/150\n - 0s - loss: 0.7397 - accuracy: 0.7333\nEpoch 35/150\n - 0s - loss: 0.7322 - accuracy: 0.7429\nEpoch 36/150\n - 0s - loss: 0.7251 - accuracy: 0.7524\nEpoch 37/150\n - 0s - loss: 0.7173 - accuracy: 0.7524\nEpoch 38/150\n - 0s - loss: 0.7092 - accuracy: 0.7524\nEpoch 39/150\n - 0s - loss: 0.7019 - accuracy: 0.7333\nEpoch 40/150\n - 0s - loss: 0.6939 - accuracy: 0.7333\nEpoch 41/150\n - 0s - loss: 0.6860 - accuracy: 0.7333\nEpoch 42/150\n - 0s - loss: 0.6786 - accuracy: 0.7429\nEpoch 43/150\n - 0s - loss: 0.6710 - accuracy: 0.7524\nEpoch 44/150\n - 0s - loss: 0.6633 - accuracy: 0.7619\nEpoch 45/150\n - 0s - loss: 0.6556 - accuracy: 0.7524\nEpoch 46/150\n - 0s - loss: 0.6476 - accuracy: 0.7524\nEpoch 47/150\n - 0s - loss: 0.6398 - accuracy: 0.7524\nEpoch 48/150\n - 0s - loss: 0.6323 - accuracy: 0.7524\nEpoch 49/150\n - 0s - loss: 0.6244 - accuracy: 0.7524\nEpoch 50/150\n - 0s - loss: 0.6172 - accuracy: 0.7524\nEpoch 51/150\n - 0s - loss: 0.6094 - accuracy: 0.7524\nEpoch 52/150\n - 0s - loss: 0.6021 - accuracy: 0.7619\nEpoch 53/150\n - 0s - loss: 0.5945 - accuracy: 0.7905\nEpoch 54/150\n - 0s - loss: 0.5871 - accuracy: 0.8190\nEpoch 55/150\n - 0s - loss: 0.5803 - accuracy: 0.8190\nEpoch 56/150\n - 0s - loss: 0.5732 - accuracy: 0.8476\nEpoch 57/150\n - 0s - loss: 0.5661 - accuracy: 0.8476\nEpoch 58/150\n - 0s - loss: 0.5592 - accuracy: 0.8571\nEpoch 59/150\n - 0s - loss: 0.5528 - accuracy: 0.8762\nEpoch 60/150\n - 0s - loss: 0.5465 - accuracy: 0.8762\nEpoch 61/150\n - 0s - loss: 0.5407 - accuracy: 0.8857\nEpoch 62/150\n - 0s - loss: 0.5346 - accuracy: 0.8952\nEpoch 63/150\n - 0s - loss: 0.5290 - accuracy: 0.8762\nEpoch 64/150\n - 0s - loss: 0.5227 - accuracy: 0.8476\nEpoch 65/150\n - 0s - loss: 0.5172 - accuracy: 0.8476\nEpoch 66/150\n - 0s - loss: 0.5119 - accuracy: 0.8381\nEpoch 67/150\n - 0s - loss: 0.5058 - accuracy: 0.8381\nEpoch 68/150\n - 0s - loss: 0.5010 - accuracy: 0.8381\nEpoch 69/150\n - 0s - loss: 0.4956 - accuracy: 0.8381\nEpoch 70/150\n - 0s - loss: 0.4907 - accuracy: 0.8762\nEpoch 71/150\n - 0s - loss: 0.4858 - accuracy: 0.8857\nEpoch 72/150\n - 0s - loss: 0.4811 - accuracy: 0.8857\nEpoch 73/150\n - 0s - loss: 0.4766 - accuracy: 0.8762\nEpoch 74/150\n - 0s - loss: 0.4725 - accuracy: 0.8381\nEpoch 75/150\n - 0s - loss: 0.4681 - accuracy: 0.8381\nEpoch 76/150\n - 0s - loss: 0.4641 - accuracy: 0.8381\nEpoch 77/150\n - 0s - loss: 0.4602 - accuracy: 0.8667\nEpoch 78/150\n - 0s - loss: 0.4566 - accuracy: 0.8667\nEpoch 79/150\n - 0s - loss: 0.4530 - accuracy: 0.8667\nEpoch 80/150\n - 0s - loss: 0.4490 - accuracy: 0.8857\nEpoch 81/150\n - 0s - loss: 0.4462 - accuracy: 0.9048\nEpoch 82/150\n - 0s - loss: 0.4429 - accuracy: 0.9143\nEpoch 83/150\n - 0s - loss: 0.4395 - accuracy: 0.9143\nEpoch 84/150\n - 0s - loss: 0.4363 - accuracy: 0.9143\nEpoch 85/150\n - 0s - loss: 0.4330 - accuracy: 0.8952\nEpoch 86/150\n - 0s - loss: 0.4300 - accuracy: 0.8952\nEpoch 87/150\n - 0s - loss: 0.4269 - accuracy: 0.8952\nEpoch 88/150\n - 0s - loss: 0.4241 - accuracy: 0.8762\nEpoch 89/150\n - 0s - loss: 0.4215 - accuracy: 0.8571\nEpoch 90/150\n - 0s - loss: 0.4188 - accuracy: 0.8571\nEpoch 91/150\n - 0s - loss: 0.4161 - accuracy: 0.8571\nEpoch 92/150\n - 0s - loss: 0.4133 - accuracy: 0.8476\nEpoch 93/150\n - 0s - loss: 0.4103 - accuracy: 0.8762\nEpoch 94/150\n - 0s - loss: 0.4079 - accuracy: 0.8952\nEpoch 95/150\n - 0s - loss: 0.4040 - accuracy: 0.9143\nEpoch 96/150\n - 0s - loss: 0.4025 - accuracy: 0.9429\nEpoch 97/150\n - 0s - loss: 0.4001 - accuracy: 0.9619\nEpoch 98/150\n - 0s - loss: 0.3977 - accuracy: 0.9810\nEpoch 99/150\n - 0s - loss: 0.3954 - accuracy: 0.9810\nEpoch 100/150\n - 0s - loss: 0.3928 - accuracy: 0.9905\nEpoch 101/150\n - 0s - loss: 0.3904 - accuracy: 0.9905\nEpoch 102/150\n - 0s - loss: 0.3872 - accuracy: 0.9619\nEpoch 103/150\n - 0s - loss: 0.3843 - accuracy: 0.9619\nEpoch 104/150\n - 0s - loss: 0.3815 - accuracy: 0.9333\nEpoch 105/150\n - 0s - loss: 0.3803 - accuracy: 0.9238\nEpoch 106/150\n - 0s - loss: 0.3786 - accuracy: 0.8857\nEpoch 107/150\n - 0s - loss: 0.3760 - accuracy: 0.8857\nEpoch 108/150\n - 0s - loss: 0.3735 - accuracy: 0.8857\nEpoch 109/150\n - 0s - loss: 0.3707 - accuracy: 0.8952\nEpoch 110/150\n - 0s - loss: 0.3678 - accuracy: 0.9048\nEpoch 111/150\n - 0s - loss: 0.3651 - accuracy: 0.9238\nEpoch 112/150\n - 0s - loss: 0.3626 - accuracy: 0.9429\nEpoch 113/150\n - 0s - loss: 0.3598 - accuracy: 0.9810\nEpoch 114/150\n - 0s - loss: 0.3579 - accuracy: 0.9905\nEpoch 115/150\n - 0s - loss: 0.3556 - accuracy: 0.9905\nEpoch 116/150\n - 0s - loss: 0.3529 - accuracy: 0.9905\nEpoch 117/150\n - 0s - loss: 0.3502 - accuracy: 0.9810\nEpoch 118/150\n - 0s - loss: 0.3480 - accuracy: 0.9524\nEpoch 119/150\n - 0s - loss: 0.3454 - accuracy: 0.9524\nEpoch 120/150\n - 0s - loss: 0.3428 - accuracy: 0.9524\nEpoch 121/150\n - 0s - loss: 0.3404 - accuracy: 0.9524\nEpoch 122/150\n - 0s - loss: 0.3378 - accuracy: 0.9524\nEpoch 123/150\n - 0s - loss: 0.3356 - accuracy: 0.9524\nEpoch 124/150\n - 0s - loss: 0.3331 - accuracy: 0.9524\nEpoch 125/150\n - 0s - loss: 0.3306 - accuracy: 0.9524\nEpoch 126/150\n - 0s - loss: 0.3283 - accuracy: 0.9524\nEpoch 127/150\n - 0s - loss: 0.3256 - accuracy: 0.9429\nEpoch 128/150\n - 0s - loss: 0.3226 - accuracy: 0.9810\nEpoch 129/150\n - 0s - loss: 0.3194 - accuracy: 0.9905\nEpoch 130/150\n - 0s - loss: 0.3178 - accuracy: 0.9905\nEpoch 131/150\n - 0s - loss: 0.3162 - accuracy: 1.0000\nEpoch 132/150\n - 0s - loss: 0.3141 - accuracy: 1.0000\nEpoch 133/150\n - 0s - loss: 0.3131 - accuracy: 1.0000\nEpoch 134/150\n - 0s - loss: 0.3101 - accuracy: 1.0000\nEpoch 135/150\n - 0s - loss: 0.3067 - accuracy: 1.0000\nEpoch 136/150\n - 0s - loss: 0.3037 - accuracy: 1.0000\nEpoch 137/150\n - 0s - loss: 0.3009 - accuracy: 0.9905\nEpoch 138/150\n - 0s - loss: 0.2984 - accuracy: 0.9905\nEpoch 139/150\n - 0s - loss: 0.2957 - accuracy: 0.9905\nEpoch 140/150\n - 0s - loss: 0.2931 - accuracy: 0.9905\nEpoch 141/150\n - 0s - loss: 0.2916 - accuracy: 0.9905\nEpoch 142/150\n - 0s - loss: 0.2889 - accuracy: 0.9905\nEpoch 143/150\n - 0s - loss: 0.2857 - accuracy: 0.9905\nEpoch 144/150\n - 0s - loss: 0.2842 - accuracy: 1.0000\nEpoch 145/150\n - 0s - loss: 0.2829 - accuracy: 1.0000\nEpoch 146/150\n - 0s - loss: 0.2802 - accuracy: 1.0000\nEpoch 147/150\n - 0s - loss: 0.2778 - accuracy: 1.0000\nEpoch 148/150\n - 0s - loss: 0.2757 - accuracy: 0.9905\nEpoch 149/150\n - 0s - loss: 0.2725 - accuracy: 0.9905\nEpoch 150/150\n - 0s - loss: 0.2708 - accuracy: 1.0000\n"
    },
    {
     "output_type": "execute_result",
     "data": {
      "text/plain": "<keras.callbacks.callbacks.History at 0x13d379ca0>"
     },
     "metadata": {},
     "execution_count": 19
    }
   ],
   "source": [
    "model.fit(scaled_X_train, y_train, epochs=150, verbose=2)"
   ]
  },
  {
   "cell_type": "code",
   "execution_count": 27,
   "metadata": {},
   "outputs": [
    {
     "output_type": "stream",
     "name": "stdout",
     "text": "[[13  0  0]\n [ 0 13  1]\n [ 0  4 14]]\n              precision    recall  f1-score   support\n\n           0       1.00      1.00      1.00        13\n           1       0.76      0.93      0.84        14\n           2       0.93      0.78      0.85        18\n\n    accuracy                           0.89        45\n   macro avg       0.90      0.90      0.90        45\nweighted avg       0.90      0.89      0.89        45\n\nAccuracy: 0.889\n"
    }
   ],
   "source": [
    "preds = model.predict_classes(scaled_X_test)\n",
    "cf_matrix = confusion_matrix(y_test.argmax(axis=1), preds)\n",
    "\n",
    "print(cf_matrix)\n",
    "print(classification_report(y_test.argmax(axis=1), preds))\n",
    "print(f\"Accuracy: {accuracy_score(y_test.argmax(axis=1), preds).round(3)}\")"
   ]
  },
  {
   "cell_type": "markdown",
   "metadata": {},
   "source": [
    "## Saving Keras Models"
   ]
  },
  {
   "cell_type": "code",
   "execution_count": 29,
   "metadata": {},
   "outputs": [
    {
     "output_type": "error",
     "ename": "AttributeError",
     "evalue": "'Sequential' object has no attribute 'predict_classses'",
     "traceback": [
      "\u001b[0;31m---------------------------------------------------------------------------\u001b[0m",
      "\u001b[0;31mAttributeError\u001b[0m                            Traceback (most recent call last)",
      "\u001b[0;32m<ipython-input-29-5216ffc8802b>\u001b[0m in \u001b[0;36m<module>\u001b[0;34m\u001b[0m\n\u001b[1;32m      7\u001b[0m \u001b[0;34m\u001b[0m\u001b[0m\n\u001b[1;32m      8\u001b[0m \u001b[0;31m# working\u001b[0m\u001b[0;34m\u001b[0m\u001b[0;34m\u001b[0m\u001b[0;34m\u001b[0m\u001b[0m\n\u001b[0;32m----> 9\u001b[0;31m \u001b[0mimport_model\u001b[0m\u001b[0;34m.\u001b[0m\u001b[0mpredict_classses\u001b[0m\u001b[0;34m(\u001b[0m\u001b[0mscaled_X_test\u001b[0m\u001b[0;34m)\u001b[0m\u001b[0;34m\u001b[0m\u001b[0;34m\u001b[0m\u001b[0m\n\u001b[0m",
      "\u001b[0;31mAttributeError\u001b[0m: 'Sequential' object has no attribute 'predict_classses'"
     ]
    }
   ],
   "source": [
    "# saving\n",
    "model.save('the_model.h5')\n",
    "\n",
    "# importing\n",
    "from keras.models import load_model\n",
    "import_model = load_model('the_model.h5')\n",
    "\n",
    "# working\n",
    "import_model.predict_classes(scaled_X_test)"
   ]
  },
  {
   "cell_type": "code",
   "execution_count": null,
   "metadata": {},
   "outputs": [],
   "source": []
  }
 ],
 "metadata": {
  "language_info": {
   "codemirror_mode": {
    "name": "ipython",
    "version": 3
   },
   "file_extension": ".py",
   "mimetype": "text/x-python",
   "name": "python",
   "nbconvert_exporter": "python",
   "pygments_lexer": "ipython3",
   "version": "3.8.2-final"
  },
  "orig_nbformat": 2,
  "kernelspec": {
   "name": "python38264bitnlpcondabab2238b208c4ad6b68b77c1f008f8e5",
   "display_name": "Python 3.8.2 64-bit ('nlp': conda)"
  }
 },
 "nbformat": 4,
 "nbformat_minor": 2
}