{
 "cells": [
  {
   "cell_type": "markdown",
   "metadata": {},
   "source": [
    "# Simple Keras Tests"
   ]
  },
  {
   "cell_type": "markdown",
   "metadata": {},
   "source": [
    "### Import statements and assignment"
   ]
  },
  {
   "cell_type": "code",
   "execution_count": 1,
   "metadata": {},
   "outputs": [
    {
     "output_type": "stream",
     "name": "stderr",
     "text": "Using TensorFlow backend.\n"
    }
   ],
   "source": [
    "import numpy as np\n",
    "\n",
    "from sklearn.datasets import load_iris\n",
    "from sklearn.model_selection import train_test_split\n",
    "from sklearn.preprocessing import MinMaxScaler\n",
    "from sklearn.metrics import confusion_matrix, classification_report, accuracy_score\n",
    "\n",
    "from keras.utils import to_categorical\n",
    "from keras.models import Sequential\n",
    "from keras.layers import Dense"
   ]
  },
  {
   "cell_type": "code",
   "execution_count": 2,
   "metadata": {},
   "outputs": [],
   "source": [
    "# Loading\n",
    "iris = load_iris()\n",
    "\n",
    "# Assigning data and targets\n",
    "X = iris.data\n",
    "y = iris.target"
   ]
  },
  {
   "cell_type": "code",
   "execution_count": 3,
   "metadata": {},
   "outputs": [],
   "source": [
    "# Cast y to one-hot coded vector\n",
    "y = to_categorical(y)"
   ]
  },
  {
   "cell_type": "code",
   "execution_count": 4,
   "metadata": {},
   "outputs": [],
   "source": [
    "# Split dataset into train and test set\n",
    "X_train, X_test, y_train, y_test = train_test_split(X, y, test_size=0.3, random_state=77)"
   ]
  },
  {
   "cell_type": "code",
   "execution_count": 5,
   "metadata": {},
   "outputs": [],
   "source": [
    "# Scale data\n",
    "scaler_object = MinMaxScaler()\n",
    "scaler_object.fit(X_train)\n",
    "\n",
    "scaled_X_train = scaler_object.transform(X_train)\n",
    "scaled_X_test = scaler_object.transform(X_test)"
   ]
  },
  {
   "cell_type": "markdown",
   "metadata": {},
   "source": [
    "## Create Model"
   ]
  },
  {
   "cell_type": "code",
   "execution_count": 6,
   "metadata": {},
   "outputs": [
    {
     "output_type": "stream",
     "name": "stdout",
     "text": "Model: \"sequential_1\"\n_________________________________________________________________\nLayer (type)                 Output Shape              Param #   \n=================================================================\ndense_1 (Dense)              (None, 8)                 40        \n_________________________________________________________________\ndense_2 (Dense)              (None, 8)                 72        \n_________________________________________________________________\ndense_3 (Dense)              (None, 3)                 27        \n=================================================================\nTotal params: 139\nTrainable params: 139\nNon-trainable params: 0\n_________________________________________________________________\n"
    }
   ],
   "source": [
    "model = Sequential()\n",
    "\n",
    "model.add(Dense(8, input_dim=4, activation='relu'))\n",
    "model.add(Dense(8, input_dim=4, activation='relu'))\n",
    "model.add(Dense(3, activation='softmax'))\n",
    "model.compile(loss='categorical_crossentropy', optimizer='adam', metrics=['accuracy'])\n",
    "\n",
    "model.summary()"
   ]
  },
  {
   "cell_type": "code",
   "execution_count": 7,
   "metadata": {},
   "outputs": [
    {
     "output_type": "stream",
     "name": "stdout",
     "text": "Epoch 1/150\n - 0s - loss: 1.0295 - accuracy: 0.3048\nEpoch 2/150\n - 0s - loss: 1.0224 - accuracy: 0.3048\nEpoch 3/150\n - 0s - loss: 1.0155 - accuracy: 0.3048\nEpoch 4/150\n - 0s - loss: 1.0088 - accuracy: 0.4000\nEpoch 5/150\n - 0s - loss: 1.0022 - accuracy: 0.5238\nEpoch 6/150\n - 0s - loss: 0.9955 - accuracy: 0.5905\nEpoch 7/150\n - 0s - loss: 0.9889 - accuracy: 0.6381\nEpoch 8/150\n - 0s - loss: 0.9824 - accuracy: 0.6476\nEpoch 9/150\n - 0s - loss: 0.9763 - accuracy: 0.6571\nEpoch 10/150\n - 0s - loss: 0.9705 - accuracy: 0.6571\nEpoch 11/150\n - 0s - loss: 0.9653 - accuracy: 0.6571\nEpoch 12/150\n - 0s - loss: 0.9601 - accuracy: 0.6571\nEpoch 13/150\n - 0s - loss: 0.9550 - accuracy: 0.6571\nEpoch 14/150\n - 0s - loss: 0.9497 - accuracy: 0.6571\nEpoch 15/150\n - 0s - loss: 0.9447 - accuracy: 0.6571\nEpoch 16/150\n - 0s - loss: 0.9393 - accuracy: 0.6571\nEpoch 17/150\n - 0s - loss: 0.9339 - accuracy: 0.6571\nEpoch 18/150\n - 0s - loss: 0.9286 - accuracy: 0.6571\nEpoch 19/150\n - 0s - loss: 0.9232 - accuracy: 0.6571\nEpoch 20/150\n - 0s - loss: 0.9182 - accuracy: 0.6571\nEpoch 21/150\n - 0s - loss: 0.9127 - accuracy: 0.6571\nEpoch 22/150\n - 0s - loss: 0.9073 - accuracy: 0.6571\nEpoch 23/150\n - 0s - loss: 0.9020 - accuracy: 0.6571\nEpoch 24/150\n - 0s - loss: 0.8967 - accuracy: 0.6571\nEpoch 25/150\n - 0s - loss: 0.8916 - accuracy: 0.6571\nEpoch 26/150\n - 0s - loss: 0.8860 - accuracy: 0.6571\nEpoch 27/150\n - 0s - loss: 0.8808 - accuracy: 0.6571\nEpoch 28/150\n - 0s - loss: 0.8754 - accuracy: 0.6571\nEpoch 29/150\n - 0s - loss: 0.8697 - accuracy: 0.6667\nEpoch 30/150\n - 0s - loss: 0.8642 - accuracy: 0.6667\nEpoch 31/150\n - 0s - loss: 0.8586 - accuracy: 0.6667\nEpoch 32/150\n - 0s - loss: 0.8531 - accuracy: 0.6667\nEpoch 33/150\n - 0s - loss: 0.8477 - accuracy: 0.6667\nEpoch 34/150\n - 0s - loss: 0.8418 - accuracy: 0.6667\nEpoch 35/150\n - 0s - loss: 0.8360 - accuracy: 0.6667\nEpoch 36/150\n - 0s - loss: 0.8298 - accuracy: 0.6762\nEpoch 37/150\n - 0s - loss: 0.8235 - accuracy: 0.6857\nEpoch 38/150\n - 0s - loss: 0.8171 - accuracy: 0.6857\nEpoch 39/150\n - 0s - loss: 0.8109 - accuracy: 0.6857\nEpoch 40/150\n - 0s - loss: 0.8043 - accuracy: 0.6857\nEpoch 41/150\n - 0s - loss: 0.7979 - accuracy: 0.6857\nEpoch 42/150\n - 0s - loss: 0.7915 - accuracy: 0.6857\nEpoch 43/150\n - 0s - loss: 0.7851 - accuracy: 0.6857\nEpoch 44/150\n - 0s - loss: 0.7778 - accuracy: 0.6857\nEpoch 45/150\n - 0s - loss: 0.7708 - accuracy: 0.6952\nEpoch 46/150\n - 0s - loss: 0.7645 - accuracy: 0.7048\nEpoch 47/150\n - 0s - loss: 0.7574 - accuracy: 0.7143\nEpoch 48/150\n - 0s - loss: 0.7512 - accuracy: 0.7238\nEpoch 49/150\n - 0s - loss: 0.7441 - accuracy: 0.7238\nEpoch 50/150\n - 0s - loss: 0.7375 - accuracy: 0.7238\nEpoch 51/150\n - 0s - loss: 0.7311 - accuracy: 0.7238\nEpoch 52/150\n - 0s - loss: 0.7245 - accuracy: 0.7429\nEpoch 53/150\n - 0s - loss: 0.7179 - accuracy: 0.7429\nEpoch 54/150\n - 0s - loss: 0.7112 - accuracy: 0.7429\nEpoch 55/150\n - 0s - loss: 0.7045 - accuracy: 0.7429\nEpoch 56/150\n - 0s - loss: 0.6978 - accuracy: 0.7429\nEpoch 57/150\n - 0s - loss: 0.6911 - accuracy: 0.7619\nEpoch 58/150\n - 0s - loss: 0.6845 - accuracy: 0.7619\nEpoch 59/150\n - 0s - loss: 0.6778 - accuracy: 0.7714\nEpoch 60/150\n - 0s - loss: 0.6718 - accuracy: 0.8000\nEpoch 61/150\n - 0s - loss: 0.6650 - accuracy: 0.8190\nEpoch 62/150\n - 0s - loss: 0.6591 - accuracy: 0.8286\nEpoch 63/150\n - 0s - loss: 0.6525 - accuracy: 0.8286\nEpoch 64/150\n - 0s - loss: 0.6459 - accuracy: 0.8286\nEpoch 65/150\n - 0s - loss: 0.6396 - accuracy: 0.8286\nEpoch 66/150\n - 0s - loss: 0.6332 - accuracy: 0.8286\nEpoch 67/150\n - 0s - loss: 0.6269 - accuracy: 0.8286\nEpoch 68/150\n - 0s - loss: 0.6203 - accuracy: 0.8286\nEpoch 69/150\n - 0s - loss: 0.6142 - accuracy: 0.8190\nEpoch 70/150\n - 0s - loss: 0.6079 - accuracy: 0.8286\nEpoch 71/150\n - 0s - loss: 0.6020 - accuracy: 0.8286\nEpoch 72/150\n - 0s - loss: 0.5962 - accuracy: 0.8286\nEpoch 73/150\n - 0s - loss: 0.5898 - accuracy: 0.8286\nEpoch 74/150\n - 0s - loss: 0.5840 - accuracy: 0.8286\nEpoch 75/150\n - 0s - loss: 0.5783 - accuracy: 0.8286\nEpoch 76/150\n - 0s - loss: 0.5723 - accuracy: 0.8286\nEpoch 77/150\n - 0s - loss: 0.5668 - accuracy: 0.8381\nEpoch 78/150\n - 0s - loss: 0.5612 - accuracy: 0.8381\nEpoch 79/150\n - 0s - loss: 0.5556 - accuracy: 0.8381\nEpoch 80/150\n - 0s - loss: 0.5501 - accuracy: 0.8286\nEpoch 81/150\n - 0s - loss: 0.5452 - accuracy: 0.8286\nEpoch 82/150\n - 0s - loss: 0.5394 - accuracy: 0.8286\nEpoch 83/150\n - 0s - loss: 0.5342 - accuracy: 0.8381\nEpoch 84/150\n - 0s - loss: 0.5275 - accuracy: 0.8476\nEpoch 85/150\n - 0s - loss: 0.5217 - accuracy: 0.8476\nEpoch 86/150\n - 0s - loss: 0.5166 - accuracy: 0.8190\nEpoch 87/150\n - 0s - loss: 0.5113 - accuracy: 0.8190\nEpoch 88/150\n - 0s - loss: 0.5064 - accuracy: 0.8190\nEpoch 89/150\n - 0s - loss: 0.5010 - accuracy: 0.8190\nEpoch 90/150\n - 0s - loss: 0.4952 - accuracy: 0.8381\nEpoch 91/150\n - 0s - loss: 0.4899 - accuracy: 0.8571\nEpoch 92/150\n - 0s - loss: 0.4853 - accuracy: 0.8762\nEpoch 93/150\n - 0s - loss: 0.4796 - accuracy: 0.8762\nEpoch 94/150\n - 0s - loss: 0.4749 - accuracy: 0.8762\nEpoch 95/150\n - 0s - loss: 0.4701 - accuracy: 0.8667\nEpoch 96/150\n - 0s - loss: 0.4656 - accuracy: 0.8571\nEpoch 97/150\n - 0s - loss: 0.4611 - accuracy: 0.8571\nEpoch 98/150\n - 0s - loss: 0.4559 - accuracy: 0.8762\nEpoch 99/150\n - 0s - loss: 0.4514 - accuracy: 0.8952\nEpoch 100/150\n - 0s - loss: 0.4478 - accuracy: 0.9143\nEpoch 101/150\n - 0s - loss: 0.4429 - accuracy: 0.9333\nEpoch 102/150\n - 0s - loss: 0.4383 - accuracy: 0.9429\nEpoch 103/150\n - 0s - loss: 0.4340 - accuracy: 0.9333\nEpoch 104/150\n - 0s - loss: 0.4301 - accuracy: 0.9238\nEpoch 105/150\n - 0s - loss: 0.4262 - accuracy: 0.9048\nEpoch 106/150\n - 0s - loss: 0.4222 - accuracy: 0.9143\nEpoch 107/150\n - 0s - loss: 0.4183 - accuracy: 0.9333\nEpoch 108/150\n - 0s - loss: 0.4142 - accuracy: 0.9429\nEpoch 109/150\n - 0s - loss: 0.4102 - accuracy: 0.9429\nEpoch 110/150\n - 0s - loss: 0.4064 - accuracy: 0.9429\nEpoch 111/150\n - 0s - loss: 0.4027 - accuracy: 0.9333\nEpoch 112/150\n - 0s - loss: 0.3995 - accuracy: 0.9238\nEpoch 113/150\n - 0s - loss: 0.3962 - accuracy: 0.9143\nEpoch 114/150\n - 0s - loss: 0.3928 - accuracy: 0.9048\nEpoch 115/150\n - 0s - loss: 0.3893 - accuracy: 0.9048\nEpoch 116/150\n - 0s - loss: 0.3857 - accuracy: 0.9238\nEpoch 117/150\n - 0s - loss: 0.3821 - accuracy: 0.9333\nEpoch 118/150\n - 0s - loss: 0.3784 - accuracy: 0.9429\nEpoch 119/150\n - 0s - loss: 0.3749 - accuracy: 0.9429\nEpoch 120/150\n - 0s - loss: 0.3721 - accuracy: 0.9429\nEpoch 121/150\n - 0s - loss: 0.3683 - accuracy: 0.9429\nEpoch 122/150\n - 0s - loss: 0.3652 - accuracy: 0.9524\nEpoch 123/150\n - 0s - loss: 0.3622 - accuracy: 0.9524\nEpoch 124/150\n - 0s - loss: 0.3590 - accuracy: 0.9714\nEpoch 125/150\n - 0s - loss: 0.3554 - accuracy: 0.9714\nEpoch 126/150\n - 0s - loss: 0.3537 - accuracy: 0.9524\nEpoch 127/150\n - 0s - loss: 0.3500 - accuracy: 0.9524\nEpoch 128/150\n - 0s - loss: 0.3473 - accuracy: 0.9524\nEpoch 129/150\n - 0s - loss: 0.3445 - accuracy: 0.9619\nEpoch 130/150\n - 0s - loss: 0.3409 - accuracy: 0.9714\nEpoch 131/150\n - 0s - loss: 0.3383 - accuracy: 0.9714\nEpoch 132/150\n - 0s - loss: 0.3352 - accuracy: 0.9714\nEpoch 133/150\n - 0s - loss: 0.3325 - accuracy: 0.9714\nEpoch 134/150\n - 0s - loss: 0.3301 - accuracy: 0.9714\nEpoch 135/150\n - 0s - loss: 0.3278 - accuracy: 0.9714\nEpoch 136/150\n - 0s - loss: 0.3248 - accuracy: 0.9524\nEpoch 137/150\n - 0s - loss: 0.3221 - accuracy: 0.9524\nEpoch 138/150\n - 0s - loss: 0.3193 - accuracy: 0.9524\nEpoch 139/150\n - 0s - loss: 0.3168 - accuracy: 0.9714\nEpoch 140/150\n - 0s - loss: 0.3141 - accuracy: 0.9714\nEpoch 141/150\n - 0s - loss: 0.3116 - accuracy: 0.9714\nEpoch 142/150\n - 0s - loss: 0.3090 - accuracy: 0.9714\nEpoch 143/150\n - 0s - loss: 0.3065 - accuracy: 0.9714\nEpoch 144/150\n - 0s - loss: 0.3040 - accuracy: 0.9619\nEpoch 145/150\n - 0s - loss: 0.3019 - accuracy: 0.9714\nEpoch 146/150\n - 0s - loss: 0.2994 - accuracy: 0.9619\nEpoch 147/150\n - 0s - loss: 0.2971 - accuracy: 0.9619\nEpoch 148/150\n - 0s - loss: 0.2940 - accuracy: 0.9714\nEpoch 149/150\n - 0s - loss: 0.2912 - accuracy: 0.9810\nEpoch 150/150\n - 0s - loss: 0.2902 - accuracy: 1.0000\n"
    },
    {
     "output_type": "execute_result",
     "data": {
      "text/plain": "<keras.callbacks.callbacks.History at 0x139d01fa0>"
     },
     "metadata": {},
     "execution_count": 7
    }
   ],
   "source": [
    "model.fit(scaled_X_train, y_train, epochs=150, verbose=2)"
   ]
  },
  {
   "cell_type": "code",
   "execution_count": 8,
   "metadata": {},
   "outputs": [
    {
     "output_type": "stream",
     "name": "stdout",
     "text": "[[13  0  0]\n [ 0 12  2]\n [ 0  2 16]]\n              precision    recall  f1-score   support\n\n           0       1.00      1.00      1.00        13\n           1       0.86      0.86      0.86        14\n           2       0.89      0.89      0.89        18\n\n    accuracy                           0.91        45\n   macro avg       0.92      0.92      0.92        45\nweighted avg       0.91      0.91      0.91        45\n\nAccuracy: 0.911\n"
    }
   ],
   "source": [
    "preds = model.predict_classes(scaled_X_test)\n",
    "cf_matrix = confusion_matrix(y_test.argmax(axis=1), preds)\n",
    "\n",
    "print(cf_matrix)\n",
    "print(classification_report(y_test.argmax(axis=1), preds))\n",
    "print(f\"Accuracy: {accuracy_score(y_test.argmax(axis=1), preds).round(3)}\")"
   ]
  },
  {
   "cell_type": "markdown",
   "metadata": {},
   "source": [
    "## Saving Keras Models"
   ]
  },
  {
   "cell_type": "code",
   "execution_count": 9,
   "metadata": {},
   "outputs": [
    {
     "output_type": "execute_result",
     "data": {
      "text/plain": "array([1, 2, 2, 1, 0, 2, 2, 1, 0, 1, 0, 2, 0, 0, 0, 2, 2, 2, 0, 1, 0, 2,\n       2, 1, 2, 1, 2, 0, 1, 1, 1, 2, 0, 2, 2, 1, 1, 2, 1, 2, 0, 1, 0, 0,\n       2])"
     },
     "metadata": {},
     "execution_count": 9
    }
   ],
   "source": [
    "# saving\n",
    "model.save('the_model.h5')\n",
    "\n",
    "# importing\n",
    "from keras.models import load_model\n",
    "import_model = load_model('the_model.h5')\n",
    "\n",
    "# working\n",
    "import_model.predict_classes(scaled_X_test)"
   ]
  },
  {
   "cell_type": "code",
   "execution_count": null,
   "metadata": {},
   "outputs": [],
   "source": []
  },
  {
   "cell_type": "code",
   "execution_count": null,
   "metadata": {},
   "outputs": [],
   "source": []
  }
 ],
 "metadata": {
  "language_info": {
   "codemirror_mode": {
    "name": "ipython",
    "version": 3
   },
   "file_extension": ".py",
   "mimetype": "text/x-python",
   "name": "python",
   "nbconvert_exporter": "python",
   "pygments_lexer": "ipython3",
   "version": "3.8.2-final"
  },
  "orig_nbformat": 2,
  "kernelspec": {
   "name": "python38264bitnlpcondabab2238b208c4ad6b68b77c1f008f8e5",
   "display_name": "Python 3.8.2 64-bit ('nlp': conda)"
  }
 },
 "nbformat": 4,
 "nbformat_minor": 2
}